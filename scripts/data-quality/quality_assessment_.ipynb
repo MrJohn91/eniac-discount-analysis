{
  "cells": [
    {
      "cell_type": "markdown",
      "metadata": {
        "id": "aSm5aaRLtFLx"
      },
      "source": [
        "# Quality Assessment\n"
      ]
    },
    {
      "cell_type": "code",
      "execution_count": null,
      "metadata": {
        "id": "Lq7zsZka4q2m"
      },
      "outputs": [],
      "source": [
        "import pandas as pd"
      ]
    },
    {
      "cell_type": "markdown",
      "metadata": {
        "id": "hzwXSr-xfh97"
      },
      "source": [
        "Load our cleaned DataFrames"
      ]
    },
    {
      "cell_type": "code",
      "execution_count": null,
      "metadata": {
        "id": "30IJsE7t49Eu"
      },
      "outputs": [],
      "source": [
        "# orders_cl.csv\n",
        "url = \"https://drive.google.com/file/d/1Tla62vfu__kCqvgypZyVt2S9VuC016yH/view?usp=sharing\"\n",
        "path = \"https://drive.google.com/uc?export=download&id=\"+url.split(\"/\")[-2]\n",
        "orders_cl = pd.read_csv(path)\n",
        "\n",
        "# orderlines_cl.csv\n",
        "url = \"https://drive.google.com/file/d/1OhtkQS2fwOYdzfd-qPh7im35iLc-L9TA/view?usp=sharing\"\n",
        "path = \"https://drive.google.com/uc?export=download&id=\"+url.split(\"/\")[-2]\n",
        "orderlines_cl = pd.read_csv(path)\n",
        "\n",
        "# products_cl.csv\n",
        "url = \"https://drive.google.com/file/d/1s7Lai4NSlsYjGEPg1QSOUJobNYVsZBOJ/view?usp=sharing\"\n",
        "path = \"https://drive.google.com/uc?export=download&id=\"+url.split(\"/\")[-2]\n",
        "products_cl = pd.read_csv(path)"
      ]
    },
    {
      "cell_type": "markdown",
      "metadata": {
        "id": "i81Z74PVfpWt"
      },
      "source": [
        "Let's create a copy of our DataFrames, to make sure any of our changes won't affect the original DataFrame. We'll also change the DataFrames from `_cl` to `_qu`, so we can distinguish between the data that has been cleaned, and that which has been quality controlled."
      ]
    },
    {
      "cell_type": "code",
      "execution_count": null,
      "metadata": {
        "id": "tl7AzGxuQTvz"
      },
      "outputs": [],
      "source": [
        "orders_qu = orders_cl.copy()\n",
        "orderlines_qu = orderlines_cl.copy()\n",
        "products_qu = products_cl.copy()\n",
        "\n"
      ]
    },
    {
      "cell_type": "markdown",
      "metadata": {
        "id": "GjQD8WPe6h0i"
      },
      "source": [
        "## 1.&nbsp; Define Pandas display format"
      ]
    },
    {
      "cell_type": "code",
      "execution_count": null,
      "metadata": {
        "id": "i0CNX9Vp3Cdf"
      },
      "outputs": [],
      "source": [
        "pd.set_option('display.min_rows', 30)"
      ]
    },
    {
      "cell_type": "code",
      "execution_count": null,
      "metadata": {
        "id": "SLikKmNx4WNo"
      },
      "outputs": [],
      "source": [
        "pd.set_option(\"display.float_format\", lambda x: \"%.2f\" % x)\n",
        "pd.set_option(\"display.max_rows\", 50)"
      ]
    },
    {
      "cell_type": "markdown",
      "metadata": {
        "id": "M0NhTKzF6jV4"
      },
      "source": [
        "## 2.&nbsp; Exclude unwanted orders"
      ]
    },
    {
      "cell_type": "markdown",
      "metadata": {
        "id": "EKolLICj68Ai"
      },
      "source": [
        "### `orders` - Keep only orders with the state you want to work with\n",
        "No `shopping cart`, `cancelled` etc..."
      ]
    },
    {
      "cell_type": "code",
      "execution_count": null,
      "metadata": {
        "colab": {
          "base_uri": "https://localhost:8080/",
          "height": 206
        },
        "id": "XYTBUMfC6TV6",
        "outputId": "59430ca2-66f5-4bd1-82a6-c06f39ae8376"
      },
      "outputs": [],
      "source": [
        "orders_qu.head()"
      ]
    },
    {
      "cell_type": "code",
      "execution_count": null,
      "metadata": {
        "id": "ZcAQIMVL3Cdg",
        "outputId": "28a0893d-ea0b-4a85-cd57-a053931e534a"
      },
      "outputs": [],
      "source": [
        "orders_qu.shape"
      ]
    },
    {
      "cell_type": "markdown",
      "metadata": {
        "id": "22OkFav-9yKO"
      },
      "source": [
        "Let's look at the make up of `state`."
      ]
    },
    {
      "cell_type": "code",
      "execution_count": null,
      "metadata": {
        "colab": {
          "base_uri": "https://localhost:8080/"
        },
        "id": "j_iNokEi9lsg",
        "outputId": "c108d467-21b8-4b97-cf1e-d6b5504e0bd0"
      },
      "outputs": [],
      "source": [
        "orders_qu[\"state\"].value_counts()"
      ]
    },
    {
      "cell_type": "markdown",
      "metadata": {
        "id": "2CwFV85C9-YN"
      },
      "source": [
        "Seems like an overwhelming amount of the orders are left in the shopping basket - something we'll have to analyse another time. For this task we're interested in only `completed` orders, so let's filter our DataFrame."
      ]
    },
    {
      "cell_type": "code",
      "execution_count": null,
      "metadata": {
        "id": "dXkzmN583C89"
      },
      "outputs": [],
      "source": [
        "# keep only completed orders\n",
        "orders_qu = orders_qu.loc[orders_qu[\"state\"] == \"Completed\", :]"
      ]
    },
    {
      "cell_type": "code",
      "execution_count": null,
      "metadata": {
        "colab": {
          "base_uri": "https://localhost:8080/"
        },
        "id": "yXVzrfkfTU_Z",
        "outputId": "8b2d7063-5e87-417f-b271-1e86f5ece24f"
      },
      "outputs": [],
      "source": [
        "orders_qu.shape"
      ]
    },
    {
      "cell_type": "code",
      "execution_count": null,
      "metadata": {
        "id": "EP13tj6J3Cdh",
        "outputId": "32fc257d-8a0c-4197-d349-86b3c55f786f"
      },
      "outputs": [],
      "source": [
        "orderlines_qu.shape"
      ]
    },
    {
      "cell_type": "markdown",
      "metadata": {
        "id": "Ihny8AC97HY9"
      },
      "source": [
        "### Keep only the orders that are present in both `orders` and `orderlines`"
      ]
    },
    {
      "cell_type": "markdown",
      "metadata": {
        "id": "G8c6IY7DcCSv"
      },
      "source": [
        "Let's begin by looking if there's a big difference between the amount of orders present in `orders` and `orderlines`."
      ]
    },
    {
      "cell_type": "code",
      "execution_count": null,
      "metadata": {
        "colab": {
          "base_uri": "https://localhost:8080/"
        },
        "id": "alpTEodZRxch",
        "outputId": "0da648ba-c727-4801-8015-0fb05249c164"
      },
      "outputs": [],
      "source": [
        "orders_qu[\"order_id\"].nunique()"
      ]
    },
    {
      "cell_type": "code",
      "execution_count": null,
      "metadata": {
        "colab": {
          "base_uri": "https://localhost:8080/"
        },
        "id": "R_SY0aGyR-1M",
        "outputId": "9b051ab7-4ac9-4241-ed40-47d452ee2dfe"
      },
      "outputs": [],
      "source": [
        "orderlines_qu[\"id_order\"].nunique()"
      ]
    },
    {
      "cell_type": "code",
      "execution_count": null,
      "metadata": {
        "id": "Nslqclp03Cdi",
        "outputId": "4050e141-28a7-42cc-87b1-c85661a5982a"
      },
      "outputs": [],
      "source": [
        "list_ids = orders_qu[\"order_id\"].unique().tolist()\n",
        "list_ids"
      ]
    },
    {
      "cell_type": "code",
      "execution_count": null,
      "metadata": {
        "id": "iN-koLHS3Cdi",
        "outputId": "decf4c7f-10f0-4cb4-9ddc-ba5182194058"
      },
      "outputs": [],
      "source": [
        "orderlines_qu.loc[orderlines_qu[\"id_order\"].isin(list_ids),:].shape # 56.714 rows"
      ]
    },
    {
      "cell_type": "markdown",
      "metadata": {
        "id": "SCsDt6sshN7g"
      },
      "source": [
        "What a huge difference! We want to make sure that every order_id in `orders` also exists in `orderlines` and vice versa.\n",
        "\n",
        "Hence we'll perform an inner merge on the two tables using the `order_id` & `id_order`. This will then keep only the `order_id`'s that are present in both tables, which will then help us filter our `_qu` DataFrames once again."
      ]
    },
    {
      "cell_type": "code",
      "execution_count": null,
      "metadata": {
        "id": "Ei4ZWuQbTDKV",
        "outputId": "599c103f-2b72-4747-86c2-5fc7eab83b4a"
      },
      "outputs": [],
      "source": [
        "orders_orderlines = orders_qu.merge(orderlines_qu, how=\"inner\", left_on=\"order_id\", right_on=\"id_order\")\n",
        "\n",
        "orders_orderlines"
      ]
    },
    {
      "cell_type": "code",
      "execution_count": null,
      "metadata": {
        "id": "j21RMJayTepy"
      },
      "outputs": [],
      "source": [
        "# order_ids that are in both tables\n",
        "order_ids = orders_orderlines[\"order_id\"].unique()"
      ]
    },
    {
      "cell_type": "code",
      "execution_count": null,
      "metadata": {
        "colab": {
          "base_uri": "https://localhost:8080/"
        },
        "id": "Lms_rb5mT2mv",
        "outputId": "c6e0edca-dcb7-4f8b-8ba3-9643740da987"
      },
      "outputs": [],
      "source": [
        "order_ids"
      ]
    },
    {
      "cell_type": "code",
      "execution_count": null,
      "metadata": {
        "id": "fV0bEfqKWYbD"
      },
      "outputs": [],
      "source": [
        "# keep those ids in orders\n",
        "orders_qu = orders_qu.loc[orders_qu[\"order_id\"].isin(order_ids), :]\n",
        "\n",
        "# keep those ids in orderlines\n",
        "orderlines_qu = orderlines_qu.loc[orderlines_qu[\"id_order\"].isin(order_ids), :]\n"
      ]
    },
    {
      "cell_type": "markdown",
      "metadata": {
        "id": "XSW2Js31kaRF"
      },
      "source": [
        "Let's have a quick check to make sure we're filtering both DataFrames the same. They should both contain the same number of unique `order_id`'s."
      ]
    },
    {
      "cell_type": "code",
      "execution_count": null,
      "metadata": {
        "colab": {
          "base_uri": "https://localhost:8080/"
        },
        "id": "ja0XpsDDkZrT",
        "outputId": "9085c867-feea-45c8-e679-d5df59a8547e"
      },
      "outputs": [],
      "source": [
        "orders_qu[\"order_id\"].nunique(), orderlines_qu[\"id_order\"].nunique()"
      ]
    },
    {
      "cell_type": "code",
      "execution_count": null,
      "metadata": {
        "id": "eagoeL4X3Cdj",
        "outputId": "ef9763e0-4f76-4e69-bcea-e4aa904bee2d"
      },
      "outputs": [],
      "source": [
        "orders_qu.shape, orderlines_qu.shape"
      ]
    },
    {
      "cell_type": "markdown",
      "metadata": {
        "id": "F-rtzwAn7WyS"
      },
      "source": [
        "## 3.&nbsp; Exclude orders with unknown products"
      ]
    },
    {
      "cell_type": "markdown",
      "metadata": {
        "id": "ainXqJZTEQrE"
      },
      "source": [
        "Let's start by investigating `orderlines` and `products`. We want to make sure that every product in `orderlines` has a matching entry in `products`. All orders with a missing product need to be removed from both `orderlines` and `orders`.\n",
        "\n",
        "A left-join can help us here:\n",
        "\n",
        "Joining `orderlines` left on `products` will keep all orderlines, and add the information of `products` on the matching skus. If an sku has been sold in `orderlines`, but the sku does not have an entry in `products` then the product_name will be empty."
      ]
    },
    {
      "cell_type": "code",
      "execution_count": null,
      "metadata": {
        "colab": {
          "base_uri": "https://localhost:8080/",
          "height": 363
        },
        "id": "gPhPZ6jbD1tB",
        "outputId": "75b552ff-4060-4d69-ec77-7ed7c16a3767"
      },
      "outputs": [],
      "source": [
        "orderlines_products = orderlines_qu.merge(products_qu, how=\"left\", on = \"sku\")[[\"id_order\",\"sku\",\"name\",\"price\" ]]\n",
        "orderlines_products.sample(10)"
      ]
    },
    {
      "cell_type": "markdown",
      "metadata": {
        "id": "L2TKJ1kZGJ90"
      },
      "source": [
        "We can count how many missing products we have."
      ]
    },
    {
      "cell_type": "code",
      "execution_count": null,
      "metadata": {
        "colab": {
          "base_uri": "https://localhost:8080/"
        },
        "id": "KxMcnHTuFTvp",
        "outputId": "383f6676-1be7-4b72-86df-700c635eaeaf"
      },
      "outputs": [],
      "source": [
        "orderlines_products[\"name\"].isna().value_counts()"
      ]
    },
    {
      "cell_type": "markdown",
      "metadata": {
        "id": "VOJAdaF6GXyt"
      },
      "source": [
        "Looks like the vast majority of products are known.\n",
        "\n",
        "We can't simply delete the rows containing unknown products. We need to remove the entirety of any order that contains an unknown product to keep a consistent and coherent dataset."
      ]
    },
    {
      "cell_type": "code",
      "execution_count": null,
      "metadata": {
        "colab": {
          "base_uri": "https://localhost:8080/"
        },
        "id": "Fa655ngLH-SM",
        "outputId": "92fdec14-616d-4d61-b926-56b31799dbb5"
      },
      "outputs": [],
      "source": [
        "orders_to_delete = orderlines_products.loc[orderlines_products[\"name\"].isna(), \"id_order\"].unique()\n",
        "orders_to_delete"
      ]
    },
    {
      "cell_type": "code",
      "execution_count": null,
      "metadata": {
        "id": "RY-qxjI_3Cdq",
        "outputId": "ebae1702-f22b-4113-c371-d5266dbde402"
      },
      "outputs": [],
      "source": [
        "orderlines_products.loc[orderlines_products[\"id_order\"].isin(orders_to_delete), :]"
      ]
    },
    {
      "cell_type": "markdown",
      "metadata": {
        "id": "Y8k4KErrIZVn"
      },
      "source": [
        "Keep only orders in `orders` and `orderlines`, that are not in this list of corrupted orders."
      ]
    },
    {
      "cell_type": "code",
      "execution_count": null,
      "metadata": {
        "id": "Crv2Ba9mLtO-"
      },
      "outputs": [],
      "source": [
        "orders_qu = orders_qu.loc[~orders_qu[\"order_id\"].isin(orders_to_delete),:]"
      ]
    },
    {
      "cell_type": "code",
      "execution_count": null,
      "metadata": {
        "id": "GV09ZKVnIwdM"
      },
      "outputs": [],
      "source": [
        "orderlines_qu = orderlines_qu.loc[~orderlines_qu[\"id_order\"].isin(orders_to_delete),:]"
      ]
    },
    {
      "cell_type": "markdown",
      "metadata": {
        "id": "fncmrlnyI_yt"
      },
      "source": [
        "Let's have a quick check to make sure we're filtering both DataFrames the same. They should both contain the same number of unique `order_id`'s."
      ]
    },
    {
      "cell_type": "code",
      "execution_count": null,
      "metadata": {
        "colab": {
          "base_uri": "https://localhost:8080/"
        },
        "id": "Szn6D5GXJIx2",
        "outputId": "cc766391-65eb-4b20-fd77-4692a6e64c09"
      },
      "outputs": [],
      "source": [
        "orders_qu[\"order_id\"].nunique(), orderlines_qu[\"id_order\"].nunique()"
      ]
    },
    {
      "cell_type": "markdown",
      "metadata": {
        "id": "bCLu78B07gN1"
      },
      "source": [
        "## 4.&nbsp; Explore the revenue from different tables"
      ]
    },
    {
      "cell_type": "markdown",
      "metadata": {
        "id": "yptSZebe79PE"
      },
      "source": [
        "In a consistent and coherent dataset the value of an order should roughly match the sum of all items bought on that order. Let's investigate..."
      ]
    },
    {
      "cell_type": "code",
      "execution_count": null,
      "metadata": {
        "id": "Pw0WN7uibB4y"
      },
      "outputs": [],
      "source": [
        "orderlines_qu_copy = orderlines_qu.copy()"
      ]
    },
    {
      "cell_type": "code",
      "execution_count": null,
      "metadata": {
        "id": "pTooKaQ4gt-F"
      },
      "outputs": [],
      "source": [
        "orders_qu_copy = orders_qu.copy()"
      ]
    },
    {
      "cell_type": "markdown",
      "metadata": {
        "id": "CrmrCXypbflw"
      },
      "source": [
        "#### Step 1:\n",
        "Create the `unit_price_total` as `orderlines.unit_price` * `orderlines.product_quantity`"
      ]
    },
    {
      "cell_type": "code",
      "execution_count": null,
      "metadata": {
        "id": "c8MApY6jatlO"
      },
      "outputs": [],
      "source": [
        "orderlines_qu_copy[\"unit_price_total\"] = orderlines_qu_copy[\"product_quantity\"] * orderlines_qu_copy[\"unit_price\"]"
      ]
    },
    {
      "cell_type": "code",
      "execution_count": null,
      "metadata": {
        "colab": {
          "base_uri": "https://localhost:8080/",
          "height": 363
        },
        "id": "euU0p-IIKMlq",
        "outputId": "32346aae-4d44-4aee-ce8c-cced3f74e612"
      },
      "outputs": [],
      "source": [
        "orderlines_qu_copy.tail(10)"
      ]
    },
    {
      "cell_type": "markdown",
      "metadata": {
        "id": "gkvMUjymbvSC"
      },
      "source": [
        "#### Step 2:\n",
        "Group by `id_order`, summarising by the sum of `unit_price_total`"
      ]
    },
    {
      "cell_type": "code",
      "execution_count": null,
      "metadata": {
        "id": "4hasZA5BaH1k"
      },
      "outputs": [],
      "source": [
        "orderlines_order_ids = orderlines_qu_copy.groupby(\"id_order\", as_index=False)[\"unit_price_total\"].sum()\n",
        "# as_index=False changes the return so that the groupedby column remains a column (not the index)"
      ]
    },
    {
      "cell_type": "code",
      "execution_count": null,
      "metadata": {
        "colab": {
          "base_uri": "https://localhost:8080/",
          "height": 423
        },
        "id": "Ly3ob9XEZHgy",
        "outputId": "e97a6ab0-4f4d-48c9-fe36-a744e0098f80"
      },
      "outputs": [],
      "source": [
        "orderlines_order_ids"
      ]
    },
    {
      "cell_type": "markdown",
      "metadata": {
        "id": "_d1lwist8F6X"
      },
      "source": [
        "### What is the average difference between `total_paid` and `unit_price_total`?"
      ]
    },
    {
      "cell_type": "markdown",
      "metadata": {
        "id": "EmTi3m8Akxig"
      },
      "source": [
        "Let's merge our grouped `orderlines` table with the `orders` table, so we can calculate the differences in prices."
      ]
    },
    {
      "cell_type": "code",
      "execution_count": null,
      "metadata": {
        "id": "1lNua5XucOFt"
      },
      "outputs": [],
      "source": [
        "diff_df = orders_qu_copy.merge(orderlines_order_ids, left_on=\"order_id\", right_on=\"id_order\")"
      ]
    },
    {
      "cell_type": "code",
      "execution_count": null,
      "metadata": {
        "colab": {
          "base_uri": "https://localhost:8080/",
          "height": 363
        },
        "id": "oI1ZIpSBcOC_",
        "outputId": "0096f1b0-228b-493e-fbc0-20d59ca16168"
      },
      "outputs": [],
      "source": [
        "diff_df[\"difference\"] = diff_df[\"total_paid\"] - diff_df[\"unit_price_total\"]\n",
        "diff_df.head(10)"
      ]
    },
    {
      "cell_type": "markdown",
      "metadata": {
        "id": "S_P-ZQ5xgpyO"
      },
      "source": [
        "Now that we know the difference for each order, we can compute the average."
      ]
    },
    {
      "cell_type": "code",
      "execution_count": null,
      "metadata": {
        "colab": {
          "base_uri": "https://localhost:8080/"
        },
        "id": "5N02JPCMgyBU",
        "outputId": "0b8ac85c-d9e0-4ba6-ddb9-ade96a32719c"
      },
      "outputs": [],
      "source": [
        "diff_df.difference.mean().round(2)"
      ]
    },
    {
      "cell_type": "markdown",
      "metadata": {
        "id": "UpynvRcO8QBr"
      },
      "source": [
        "### What is the distribution of these differences?"
      ]
    },
    {
      "cell_type": "code",
      "execution_count": null,
      "metadata": {
        "id": "LdG2W5zw3Cdr",
        "outputId": "469167ce-a11e-4365-8965-0050d44ff900"
      },
      "outputs": [],
      "source": [
        "diff_df.difference.hist(bins= 50, figsize=(8,6));"
      ]
    },
    {
      "cell_type": "markdown",
      "metadata": {
        "id": "2T4efB27h_Q8"
      },
      "source": [
        "Looking at the spread of the data above, some of the difference must be due to corruption. Let's use `.describe()` to investigate the distribution further."
      ]
    },
    {
      "cell_type": "code",
      "execution_count": null,
      "metadata": {
        "colab": {
          "base_uri": "https://localhost:8080/"
        },
        "id": "1T3KFlE3iUTW",
        "outputId": "2a262a32-8ad4-4ced-f2c4-b4fede6e57c1"
      },
      "outputs": [],
      "source": [
        "diff_df[\"difference\"].describe()"
      ]
    },
    {
      "cell_type": "markdown",
      "metadata": {
        "id": "MyeXnzNwjTVf"
      },
      "source": [
        "We can see from the our quartiles (0.00, 4.99, 6.99) that most of our data fits an expected pattern - free, 4.99, and 6.99 all seem like reasonable prices to assume as postage. However, look at the min and the max values, -165.00 and 3984.99, this can only occur due to corrupted data."
      ]
    },
    {
      "cell_type": "markdown",
      "metadata": {
        "id": "NINPK4rB8TSY"
      },
      "source": [
        "### Can all the differences be explained by shipping costs? If not, what are other plausible explanations?"
      ]
    },
    {
      "cell_type": "markdown",
      "metadata": {
        "id": "RJaLHlhklUgF"
      },
      "source": [
        "What reasons have you come up with to explain the difference?"
      ]
    },
    {
      "cell_type": "markdown",
      "metadata": {
        "id": "xPos2ipK8VST"
      },
      "source": [
        "### If there are differences that you can’t explain: what should you do with these orders?\n",
        "There's a rule of thumb, that anything:\n",
        "+ lower than the 25% quartile - (1.5 x interquartile range), or\n",
        "+ higher than the 75% quartile + (1.5 x interquartile range)\n",
        "\n",
        "is an outlier. Let's use this rule to try and exclude any corrupted data."
      ]
    },
    {
      "cell_type": "code",
      "execution_count": null,
      "metadata": {
        "colab": {
          "base_uri": "https://localhost:8080/",
          "height": 435
        },
        "id": "7eeYy27aMU8a",
        "outputId": "b651093e-b0c5-490e-c2cb-1b9ef34ca509"
      },
      "outputs": [],
      "source": [
        "# We know this rule from the boxplot\n",
        "import matplotlib.pyplot as plt\n",
        "\n",
        "ax = diff_df.boxplot(\"difference\");\n",
        "ax.set_ylim(-30, +30)\n",
        "plt.show()"
      ]
    },
    {
      "cell_type": "code",
      "execution_count": null,
      "metadata": {
        "id": "BsKLGnqL3Cds",
        "outputId": "39064fea-7ec3-4c00-c769-9663fc396db0"
      },
      "outputs": [],
      "source": [
        "lower_whisker_value = diff_df.loc[diff_df[\"difference\"] >= (Q1-1.5*IQR), \"difference\"].min()\n",
        "lower_whisker_value"
      ]
    },
    {
      "cell_type": "code",
      "execution_count": null,
      "metadata": {
        "id": "0MFCY8de3Cds",
        "outputId": "36701493-c2a7-4b1c-c9fa-d4d02ff8716c"
      },
      "outputs": [],
      "source": [
        "upper_whisker_value = diff_df.loc[diff_df[\"difference\"] <= (Q3 +1.5*IQR), \"difference\"].max()\n",
        "upper_whisker_value"
      ]
    },
    {
      "cell_type": "code",
      "execution_count": null,
      "metadata": {
        "colab": {
          "base_uri": "https://localhost:8080/"
        },
        "id": "xqeCAJBt8V3T",
        "outputId": "75f409e4-d439-41b2-c188-e340b54900ad"
      },
      "outputs": [],
      "source": [
        "# calculate the quartiles\n",
        "Q1 = diff_df[\"difference\"].quantile(0.25)\n",
        "Q3 = diff_df[\"difference\"].quantile(0.75)\n",
        "\n",
        "Q1, Q3"
      ]
    },
    {
      "cell_type": "code",
      "execution_count": null,
      "metadata": {
        "colab": {
          "base_uri": "https://localhost:8080/"
        },
        "id": "oMIscjDjNasH",
        "outputId": "8836ecc1-21b7-4973-8a89-e65a6308b131"
      },
      "outputs": [],
      "source": [
        "# calculate the interquartile range\n",
        "IQR = Q3-Q1\n",
        "IQR"
      ]
    },
    {
      "cell_type": "code",
      "execution_count": null,
      "metadata": {
        "colab": {
          "base_uri": "https://localhost:8080/"
        },
        "id": "KFWH6QepOihO",
        "outputId": "14fe9ad1-6741-4be3-e5d9-e4f822c9e4ec"
      },
      "outputs": [],
      "source": [
        "# lower boundary\n",
        "Q1 - 1.5*IQR"
      ]
    },
    {
      "cell_type": "code",
      "execution_count": null,
      "metadata": {
        "colab": {
          "base_uri": "https://localhost:8080/"
        },
        "id": "gfwh1W9FOk4E",
        "outputId": "81871238-6c46-49c1-a669-12dd919fe2e1"
      },
      "outputs": [],
      "source": [
        "# upper boundary\n",
        "Q3 + 1.5*IQR"
      ]
    },
    {
      "cell_type": "code",
      "execution_count": null,
      "metadata": {
        "id": "5N5e7LyVNhmG"
      },
      "outputs": [],
      "source": [
        "# filter the DataFrame to include only \"non-outliers\"\n",
        "diff_no_outliers_df = diff_df.loc[\n",
        "    (diff_df[\"difference\"] >= (Q1 - 1.5*IQR))\n",
        "    &\n",
        "    (diff_df[\"difference\"] <= (Q3 + 1.5*IQR))\n",
        "    ,\n",
        "    :]"
      ]
    },
    {
      "cell_type": "markdown",
      "metadata": {
        "id": "HBk64r7CnL4W"
      },
      "source": [
        "Let's look at the distribution again to see the effect of removing the outliers."
      ]
    },
    {
      "cell_type": "code",
      "execution_count": null,
      "metadata": {
        "colab": {
          "base_uri": "https://localhost:8080/",
          "height": 522
        },
        "id": "Kt-sjDRCm78G",
        "outputId": "3866cb51-2649-4d02-8af0-a6ba13e9f591"
      },
      "outputs": [],
      "source": [
        "diff_no_outliers_df.difference.hist(bins= 50, figsize=(8,6));"
      ]
    },
    {
      "cell_type": "code",
      "execution_count": null,
      "metadata": {
        "colab": {
          "base_uri": "https://localhost:8080/",
          "height": 447
        },
        "id": "-DwDdV1cOvrX",
        "outputId": "a2385e87-621a-4cf7-8ed4-757ac50a859a"
      },
      "outputs": [],
      "source": [
        "diff_no_outliers_df.boxplot(\"difference\")"
      ]
    },
    {
      "cell_type": "code",
      "execution_count": null,
      "metadata": {
        "id": "hU2zl5KU3Cd1",
        "outputId": "52d3dce9-ea49-45ea-a7b5-ace105c040fe"
      },
      "outputs": [],
      "source": [
        "diff_no_outliers_df.loc[diff_no_outliers_df[\"difference\"] < 0,:]"
      ]
    },
    {
      "cell_type": "code",
      "execution_count": null,
      "metadata": {
        "id": "6K9616px3Cd1",
        "outputId": "3466aae8-a157-4efa-c99f-00030c95417d"
      },
      "outputs": [],
      "source": [
        "diff_no_outliers_df[\"difference\"].value_counts()"
      ]
    },
    {
      "cell_type": "markdown",
      "metadata": {
        "id": "3RNO4PxFnVEX"
      },
      "source": [
        "This looks much more like what we would expect: a small difference, but nothing extreme.\n",
        "\n",
        "Now we need to remove these orders with extreme differences from our `orders_lines_merged` DataFrame."
      ]
    },
    {
      "cell_type": "code",
      "execution_count": null,
      "metadata": {
        "id": "RgkgYSaJnpcP"
      },
      "outputs": [],
      "source": [
        "normal_diff_list = diff_no_outliers_df[\"order_id\"]"
      ]
    },
    {
      "cell_type": "code",
      "execution_count": null,
      "metadata": {
        "id": "OHRzuzV6ndcB"
      },
      "outputs": [],
      "source": [
        "orders_qu = orders_qu.loc[orders_qu[\"order_id\"].isin(normal_diff_list), :]\n",
        "orderlines_qu = orderlines_qu.loc[orderlines_qu[\"id_order\"].isin(normal_diff_list), :]"
      ]
    },
    {
      "cell_type": "code",
      "execution_count": null,
      "metadata": {
        "colab": {
          "base_uri": "https://localhost:8080/"
        },
        "id": "VXG1mqR0eKk2",
        "outputId": "11f95f7f-12a5-4972-bc52-9fe972223dc2"
      },
      "outputs": [],
      "source": [
        "orders_qu[\"order_id\"].nunique(), orderlines_qu[\"id_order\"].nunique()"
      ]
    },
    {
      "cell_type": "markdown",
      "metadata": {
        "id": "dvyhnpLcfXdd"
      },
      "source": [
        "Let's not forget to download our quality controlled DataFrames"
      ]
    },
    {
      "cell_type": "code",
      "execution_count": null,
      "metadata": {
        "id": "gUcJc1E6sVOl"
      },
      "outputs": [],
      "source": [
        "# from google.colab import files\n",
        "\n",
        "orders_qu.to_csv(\"orders_qu.csv\", index=False)\n",
        "# files.download(\"orders_qu.csv\")\n",
        "\n",
        "orderlines_qu.to_csv(\"orderlines_qu.csv\", index=False)\n",
        "# files.download(\"orderlines_qu.csv\")"
      ]
    },
    {
      "cell_type": "markdown",
      "metadata": {
        "id": "xnFv9H-63Cd2"
      },
      "source": [
        "## Verifying that the avg difference is smaller than before (4.47) when we remove the outliers"
      ]
    },
    {
      "cell_type": "code",
      "execution_count": null,
      "metadata": {
        "id": "MStX7ngH3Cd2",
        "outputId": "22a0e688-1455-4245-8476-d3aa9e82dd8d"
      },
      "outputs": [],
      "source": [
        "orderlines_qu_copy = orderlines_qu.copy()\n",
        "orders_qu_copy = orders_qu.copy()\n",
        "\n",
        "orderlines_qu_copy[\"unit_price_total\"] = orderlines_qu_copy[\"product_quantity\"] * orderlines_qu_copy[\"unit_price\"]\n",
        "orderlines_order_ids = orderlines_qu_copy.groupby(\"id_order\", as_index=False)[\"unit_price_total\"].sum()\n",
        "diff_df = orders_qu_copy.merge(orderlines_order_ids, left_on=\"order_id\", right_on=\"id_order\")\n",
        "diff_df[\"difference\"] = diff_df[\"total_paid\"] - diff_df[\"unit_price_total\"]\n",
        "diff_df.head(10)"
      ]
    },
    {
      "cell_type": "code",
      "execution_count": null,
      "metadata": {
        "id": "0xTIMqHO3Cd2",
        "outputId": "802924f6-842d-414f-dceb-c4a5540f0b2d"
      },
      "outputs": [],
      "source": [
        "diff_df.difference.mean().round(2)"
      ]
    }
  ],
  "metadata": {
    "colab": {
      "provenance": []
    },
    "kernelspec": {
      "display_name": "Python 3",
      "name": "python3"
    },
    "language_info": {
      "codemirror_mode": {
        "name": "ipython",
        "version": 3
      },
      "file_extension": ".py",
      "mimetype": "text/x-python",
      "name": "python",
      "nbconvert_exporter": "python",
      "pygments_lexer": "ipython3",
      "version": "3.9.6"
    }
  },
  "nbformat": 4,
  "nbformat_minor": 0
}

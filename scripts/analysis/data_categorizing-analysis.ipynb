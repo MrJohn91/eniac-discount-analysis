{
 "cells": [
  {
   "cell_type": "markdown",
   "metadata": {},
   "source": [
    "## Importing my data bases "
   ]
  },
  {
   "cell_type": "code",
   "execution_count": null,
   "metadata": {},
   "outputs": [],
   "source": [
    "## Importing my data bases and panda\n",
    "import pandas as pd\n",
    "\n",
    "# products_cl.csv\n",
    "url = \"https://drive.google.com/file/d/1s7Lai4NSlsYjGEPg1QSOUJobNYVsZBOJ/view?usp=sharing\"\n",
    "path = \"https://drive.google.com/uc?export=download&id=\"+url.split(\"/\")[-2]\n",
    "products_df = pd.read_csv(path)\n",
    "\n",
    "# brands_cl.csv\n",
    "url = \"https://drive.google.com/file/d/1XGyabaa4mAkjixMk3XPgx_14OoSse3rs/view?usp=sharing\"\n",
    "path = \"https://drive.google.com/uc?export=download&id=\"+url.split(\"/\")[-2]\n",
    "brands_df = pd.read_csv(path)\n",
    "\n",
    "\n"
   ]
  },
  {
   "cell_type": "code",
   "execution_count": null,
   "metadata": {},
   "outputs": [],
   "source": [
    "import os\n",
    "# Define paths using os.path.expanduser\n",
    "orders_path = os.path.expanduser(\"~/Downloads/orders_qu.csv\")\n",
    "orderlines_path = os.path.expanduser(\"~/Downloads/orderlines_qu.csv\")"
   ]
  },
  {
   "cell_type": "code",
   "execution_count": null,
   "metadata": {},
   "outputs": [],
   "source": [
    "# Read the CSV files into pandas DataFrames\n",
    "orders_df = pd.read_csv(orders_path)\n",
    "orderlines_df = pd.read_csv(orderlines_path)\n"
   ]
  },
  {
   "cell_type": "markdown",
   "metadata": {},
   "source": [
    "## I want to display always 2 decimal and columns and rows larger"
   ]
  },
  {
   "cell_type": "code",
   "execution_count": null,
   "metadata": {},
   "outputs": [],
   "source": [
    "pd.set_option('display.float_format', lambda x: '%.2f' % x)\n",
    "pd.set_option('display.max_colwidth', 200)\n",
    "pd.set_option('display.max_rows', 1000)"
   ]
  },
  {
   "cell_type": "markdown",
   "metadata": {},
   "source": [
    "## Discovering the date for database\n",
    "\n",
    "\n",
    "It is beetween '2017-01-01 01:51:47', '2018-03-14 12:03:52'"
   ]
  },
  {
   "cell_type": "code",
   "execution_count": null,
   "metadata": {},
   "outputs": [],
   "source": [
    "orders_df['created_date'].min(), orders_df['created_date'].max()\n"
   ]
  },
  {
   "cell_type": "code",
   "execution_count": null,
   "metadata": {},
   "outputs": [],
   "source": [
    "orders_df"
   ]
  },
  {
   "cell_type": "markdown",
   "metadata": {},
   "source": [
    "## Discovering overall revenue\n",
    "\n",
    "its = 7978675 "
   ]
  },
  {
   "cell_type": "code",
   "execution_count": null,
   "metadata": {},
   "outputs": [],
   "source": [
    "orders_df['total_paid'].sum().round()"
   ]
  },
  {
   "cell_type": "markdown",
   "metadata": {},
   "source": [
    "## Are there seasonal patterns in the evolution of sales?"
   ]
  },
  {
   "cell_type": "markdown",
   "metadata": {},
   "source": [
    "#### First i need to change created_date type into datetime64"
   ]
  },
  {
   "cell_type": "code",
   "execution_count": null,
   "metadata": {},
   "outputs": [],
   "source": [
    "## changing created_date into datetime object\n",
    "orders_df[\"created_date\"] = pd.to_datetime(orders_df[\"created_date\"])\n",
    "orders_df.info()"
   ]
  },
  {
   "cell_type": "markdown",
   "metadata": {},
   "source": [
    "#### Resampling and putting it into plot"
   ]
  },
  {
   "cell_type": "code",
   "execution_count": null,
   "metadata": {},
   "outputs": [],
   "source": [
    "(\n",
    "    orders_df\n",
    "    .resample(\"ME\", on='created_date')['total_paid']\n",
    "    .sum()\n",
    "    .plot()\n",
    ")"
   ]
  },
  {
   "cell_type": "markdown",
   "metadata": {},
   "source": [
    "## What is the most sold product?"
   ]
  },
  {
   "cell_type": "code",
   "execution_count": null,
   "metadata": {},
   "outputs": [],
   "source": [
    "products_df"
   ]
  },
  {
   "cell_type": "markdown",
   "metadata": {},
   "source": [
    "#### I want to make table to have a count of sells for product"
   ]
  },
  {
   "cell_type": "code",
   "execution_count": null,
   "metadata": {},
   "outputs": [],
   "source": [
    "## making copy so i dont interfere the original data\n",
    "orderlines_qu_temporary = orderlines_df.copy()"
   ]
  },
  {
   "cell_type": "markdown",
   "metadata": {},
   "source": [
    "##### im merging so i see the product name on my table"
   ]
  },
  {
   "cell_type": "code",
   "execution_count": null,
   "metadata": {},
   "outputs": [],
   "source": [
    "## dont run this cause it will make another copy of column\n",
    "orderlines_qu_temporary = orderlines_qu_temporary.merge(products_df[['sku', 'name']], on='sku', how='left')\n",
    "\n"
   ]
  },
  {
   "cell_type": "code",
   "execution_count": null,
   "metadata": {},
   "outputs": [],
   "source": [
    "#### the most sales products are = \n",
    "products_sales = orderlines_qu_temporary.groupby('name')['product_quantity'].sum().sort_values(ascending=False)\n",
    "\n",
    "products_sales.head(10)\n"
   ]
  },
  {
   "cell_type": "markdown",
   "metadata": {},
   "source": [
    "### FINDING: Apple Care Protection Plan is most sold product\n",
    "##### ~~~Its probably addition to some products, so i'll pursue the finding and check it~~ its not addition"
   ]
  },
  {
   "cell_type": "code",
   "execution_count": null,
   "metadata": {},
   "outputs": [],
   "source": [
    "orderlines_qu_temporary.loc[orderlines_qu_temporary['name'] == 'IPhone AppleCare Protection Plan', :]"
   ]
  },
  {
   "cell_type": "markdown",
   "metadata": {},
   "source": [
    "## What are the products that generate the most revenue?"
   ]
  },
  {
   "cell_type": "markdown",
   "metadata": {},
   "source": [
    "#### I will add column with price paid so the products with multiple product quantity will be counted "
   ]
  },
  {
   "cell_type": "code",
   "execution_count": null,
   "metadata": {},
   "outputs": [],
   "source": [
    "## We'll use the copy of data with merged names so we dont repeat that step\n",
    "orderlines_qu_temporary.loc[:, 'price_paid'] = orderlines_qu_temporary['unit_price'] * orderlines_qu_temporary['product_quantity']\n"
   ]
  },
  {
   "cell_type": "markdown",
   "metadata": {},
   "source": [
    "#### Now i will group by price_paid to find which products generate most revenue"
   ]
  },
  {
   "cell_type": "code",
   "execution_count": null,
   "metadata": {},
   "outputs": [],
   "source": [
    "(\n",
    "    orderlines_qu_temporary\n",
    "    .groupby('name')['price_paid']\n",
    "    .sum()\n",
    "    .sort_values(ascending=False)#.head(20)\n",
    ")"
   ]
  },
  {
   "cell_type": "markdown",
   "metadata": {},
   "source": [
    "## Discount Analyze"
   ]
  },
  {
   "cell_type": "markdown",
   "metadata": {},
   "source": [
    "#### I need to merge orderlines with products to compare first price with actual price paid\n"
   ]
  },
  {
   "cell_type": "code",
   "execution_count": null,
   "metadata": {},
   "outputs": [],
   "source": [
    "## im merging two databases on sku (foreign key), assaign it to new name (orderlines_products)(names of two tables)\n",
    "orderlines_products = orderlines_df.merge(products_df, on= 'sku', how='left')"
   ]
  },
  {
   "cell_type": "markdown",
   "metadata": {},
   "source": [
    "#### Now i want to drop unsueful columns using .drop\n"
   ]
  },
  {
   "cell_type": "code",
   "execution_count": null,
   "metadata": {},
   "outputs": [],
   "source": [
    "orderlines_products.drop(['product_id', 'id', 'in_stock', 'desc', 'type'], axis=1, inplace=True)"
   ]
  },
  {
   "cell_type": "code",
   "execution_count": null,
   "metadata": {},
   "outputs": [],
   "source": [
    "orderlines_products"
   ]
  },
  {
   "cell_type": "markdown",
   "metadata": {},
   "source": [
    "#### Making discount column (Just a number)"
   ]
  },
  {
   "cell_type": "code",
   "execution_count": null,
   "metadata": {},
   "outputs": [],
   "source": [
    "orderlines_products.loc[:, 'Discount'] = orderlines_products['price'] - orderlines_products ['unit_price']"
   ]
  },
  {
   "cell_type": "code",
   "execution_count": null,
   "metadata": {},
   "outputs": [],
   "source": [
    "orderlines_products"
   ]
  },
  {
   "cell_type": "markdown",
   "metadata": {},
   "source": [
    "#### Making discount column (percentage)"
   ]
  },
  {
   "cell_type": "code",
   "execution_count": null,
   "metadata": {},
   "outputs": [],
   "source": [
    "orderlines_products.loc[:, 'Discount%'] = ((orderlines_products['price'] - orderlines_products ['unit_price'])/ orderlines_products['price']) * 100\n",
    "\n",
    "## im rounding the result with no decimal \n",
    "orderlines_products['Discount%'] = orderlines_products['Discount%'].round().astype(int)"
   ]
  },
  {
   "cell_type": "code",
   "execution_count": null,
   "metadata": {},
   "outputs": [],
   "source": [
    "orderlines_products"
   ]
  },
  {
   "cell_type": "markdown",
   "metadata": {},
   "source": [
    "## I want to see what is overall discount"
   ]
  },
  {
   "cell_type": "markdown",
   "metadata": {},
   "source": [
    "##### overall discounted number = 1390216\n"
   ]
  },
  {
   "cell_type": "code",
   "execution_count": null,
   "metadata": {},
   "outputs": [],
   "source": [
    "orderlines_products['Discount'].sum()"
   ]
  },
  {
   "cell_type": "markdown",
   "metadata": {},
   "source": [
    "##  ! finding that sometimes people paid more than regular price !"
   ]
  },
  {
   "cell_type": "markdown",
   "metadata": {},
   "source": [
    "#### making other table just with negative discounts"
   ]
  },
  {
   "cell_type": "code",
   "execution_count": null,
   "metadata": {},
   "outputs": [],
   "source": [
    "## im pursuing to find whats going on with negative discounts\n",
    "negative_discount = orderlines_products.loc[orderlines_products['Discount'] < 0, :]"
   ]
  },
  {
   "cell_type": "code",
   "execution_count": null,
   "metadata": {},
   "outputs": [],
   "source": [
    "## covnerting to data object\n",
    "negative_discount[\"date\"] = pd.to_datetime(negative_discount[\"date\"])\n"
   ]
  },
  {
   "cell_type": "code",
   "execution_count": null,
   "metadata": {},
   "outputs": [],
   "source": [
    "### Checking the distribution on when people overpay\n",
    "(\n",
    "    negative_discount\n",
    "    .resample(\"D\", on=\"date\")\n",
    "    .sum()['Discount']\n",
    "    .abs()\n",
    "    .plot(figsize=(12, 8))\n",
    ")"
   ]
  },
  {
   "attachments": {
    "image.png": {
     "image/png": "[encoded data removed]"
    }
   },
   "cell_type": "markdown",
   "metadata": {},
   "source": [
    "#### people overpay especially on first 2.5 months and between May - September (inklusive) WHY?\n",
    "![image.png](attachment:image.png)"
   ]
  },
  {
   "cell_type": "markdown",
   "metadata": {},
   "source": [
    "## Going back to find what % of revenue are discounts"
   ]
  },
  {
   "cell_type": "markdown",
   "metadata": {},
   "source": [
    "#### Back to using orderlines_products"
   ]
  },
  {
   "cell_type": "code",
   "execution_count": null,
   "metadata": {},
   "outputs": [],
   "source": [
    "orderlines_products['Discount%'].mean()"
   ]
  },
  {
   "cell_type": "markdown",
   "metadata": {},
   "source": [
    "##### Average discount for order is 21%"
   ]
  },
  {
   "cell_type": "markdown",
   "metadata": {},
   "source": [
    "## Now i want to analyze the correlation between the discount and the revenue"
   ]
  },
  {
   "cell_type": "markdown",
   "metadata": {},
   "source": [
    "#### i want to somehow establish total discount on total_paid on orders_qu so i can look for correlation"
   ]
  },
  {
   "cell_type": "code",
   "execution_count": null,
   "metadata": {},
   "outputs": [],
   "source": [
    "discovery_df = orders_df.merge(orderlines_products, left_on='order_id', right_on= 'id_order', how='inner')"
   ]
  },
  {
   "cell_type": "code",
   "execution_count": null,
   "metadata": {},
   "outputs": [],
   "source": [
    "discovery_df.duplicated().sum()"
   ]
  },
  {
   "cell_type": "code",
   "execution_count": null,
   "metadata": {},
   "outputs": [],
   "source": [
    "discovery_df['Discount'].corr(discovery_df['total_paid'])"
   ]
  },
  {
   "cell_type": "markdown",
   "metadata": {},
   "source": [
    "#### IM NOT SURE THAT IS ACCURATE (above) (dont know if i merged it correctly) but the result 0.21 means that relationship between discounts and revenue is not very strong, but there is a slight tendency for revenue to increase with higher discounts. (.corr is using Pearson method)"
   ]
  },
  {
   "cell_type": "markdown",
   "metadata": {},
   "source": [
    "## ~~Code i've been working for few hours~~\n"
   ]
  },
  {
   "cell_type": "markdown",
   "metadata": {},
   "source": [
    "#### got few logical errors and more "
   ]
  },
  {
   "cell_type": "code",
   "execution_count": null,
   "metadata": {},
   "outputs": [],
   "source": [
    "import pandas as pd\n",
    "from collections import Counter\n",
    "import re\n",
    "category_type_df = products_df.copy()"
   ]
  },
  {
   "cell_type": "code",
   "execution_count": null,
   "metadata": {},
   "outputs": [],
   "source": [
    "def extract_common_keyword(name_series):\n",
    "    \n",
    "    name = name_series.iloc[0]\n",
    "        \n",
    "    words = re.findall(r'\\w+', name.lower())\n",
    "    \n",
    "    common_words = Counter(words)\n",
    "    \n",
    "    ignore_words = {'open', 'just', 'x', 'synology', 'pack', 'with', 'for', 'and', 'tb','pro'}\n",
    "    \n",
    "    filtered_words = {word: count for word, count in common_words.items() if word not in ignore_words}\n",
    "    \n",
    "    \n",
    "    if filtered_words:\n",
    "        return max(filtered_words, key=filtered_words.get)\n",
    "    else:\n",
    "        return None\n",
    "\n",
    "# Group by 'type' and count 'sku' (finding 30 largest types)\n",
    "type_counts = category_type_df.groupby('type').count().nlargest(30, 'sku')\n",
    "\n",
    "# Extract the top 30 types (taking them from index)\n",
    "top_types = type_counts.index\n",
    "\n",
    "# Apply the function to the top 30 types\n",
    "type_category_dict = {}\n",
    "for type_id in top_types:\n",
    "    group = category_type_df[category_type_df['type'] == type_id]\n",
    "    common_keyword = extract_common_keyword(group['name'])\n",
    "    type_category_dict[type_id] = common_keyword\n",
    "\n",
    "type_category_dict"
   ]
  },
  {
   "cell_type": "code",
   "execution_count": null,
   "metadata": {},
   "outputs": [],
   "source": [
    "df_category_type = products_df.copy()"
   ]
  },
  {
   "cell_type": "code",
   "execution_count": null,
   "metadata": {},
   "outputs": [],
   "source": [
    "## adding category column\n",
    "df_category_type[\"category\"] = \"\"\n"
   ]
  },
  {
   "cell_type": "markdown",
   "metadata": {},
   "source": [
    "#### Adding categories based on mask"
   ]
  },
  {
   "cell_type": "code",
   "execution_count": null,
   "metadata": {},
   "outputs": [],
   "source": [
    "## resetter\n",
    "df_category_type[\"category\"] = \"\""
   ]
  },
  {
   "cell_type": "code",
   "execution_count": null,
   "metadata": {},
   "outputs": [],
   "source": [
    "df_category_type['category'].value_counts()"
   ]
  },
  {
   "cell_type": "code",
   "execution_count": null,
   "metadata": {},
   "outputs": [],
   "source": [
    "df_category_type.sample(100)\n",
    "                        "
   ]
  },
  {
   "cell_type": "markdown",
   "metadata": {},
   "source": [
    "### Category Creation using things below"
   ]
  },
  {
   "cell_type": "markdown",
   "metadata": {},
   "source": [
    "#### Filtering out iphones mask code for NEW IPHONES\n"
   ]
  },
  {
   "cell_type": "code",
   "execution_count": null,
   "metadata": {},
   "outputs": [],
   "source": [
    "(\n",
    "    df_category_type.loc[\n",
    "    (df_category_type[\"name\"].str.contains(\"^.{0,7}apple iphone\", case=False)) \n",
    "    &\n",
    "    (df_category_type['price'] > 200)\n",
    "    &\n",
    "    (df_category_type['desc'].str.contains('new', case=False))]\n",
    "\n",
    ")"
   ]
  },
  {
   "cell_type": "markdown",
   "metadata": {},
   "source": [
    "#### Filtering out iphones mask code for NOT NEW (as new, like new, refubrished but not 100% new)"
   ]
  },
  {
   "cell_type": "code",
   "execution_count": null,
   "metadata": {},
   "outputs": [],
   "source": [
    "(\n",
    "    df_category_type.loc[\n",
    "    (df_category_type[\"name\"].str.contains(\"^.{0,7}apple iphone\", case=False)) \n",
    "    &\n",
    "    (df_category_type['price'] > 200)\n",
    "    &\n",
    "    (~df_category_type['desc'].str.contains('new', case=False))]\n",
    "\n",
    ")"
   ]
  },
  {
   "cell_type": "markdown",
   "metadata": {},
   "source": [
    "#### Filtering ALL IPHONES"
   ]
  },
  {
   "cell_type": "code",
   "execution_count": null,
   "metadata": {},
   "outputs": [],
   "source": [
    "iphone_mask = (\n",
    "    df_category_type[\"name\"].str.contains(\"^.{0,7}apple iphone\", case=False) &\n",
    "    (df_category_type['price'] > 200)\n",
    ")"
   ]
  },
  {
   "cell_type": "markdown",
   "metadata": {},
   "source": [
    "#### Filtering out only cases for products (checked for possible outliers should be good)"
   ]
  },
  {
   "cell_type": "markdown",
   "metadata": {},
   "source": [
    "##### Regex explained\n",
    "* \\b: Word boundary to ensure we match whole words (e.g., iPhone, MacBook).\n",
    "\n",
    "* (?|MacBook|iPad|iPod): Non-capturing group to match any of the specified keywords. (we can add if i missed something)\n",
    "* .*\\bcase\\b: Ensures \"case\" appears in the name, possibly with other words in between"
   ]
  },
  {
   "cell_type": "code",
   "execution_count": null,
   "metadata": {},
   "outputs": [],
   "source": [
    "cases_mask = df_category_type['name'].str.contains(r'\\b(?:iPhone|MacBook|iPad|iPod|Phone|Air)\\b.*\\bcase\\b', case=False)\n"
   ]
  },
  {
   "cell_type": "markdown",
   "metadata": {},
   "source": [
    "#### Filtering out category for Computers"
   ]
  },
  {
   "cell_type": "code",
   "execution_count": null,
   "metadata": {},
   "outputs": [],
   "source": [
    "computer_mask = (df_category_type['desc'].str.contains('computer|laptop|iMac')) & (df_category_type['price'] > 400)\n",
    "   \n"
   ]
  },
  {
   "cell_type": "code",
   "execution_count": null,
   "metadata": {},
   "outputs": [],
   "source": [
    "df_category_type.loc[(df_category_type['desc'].str.contains('computer|laptop|iMac|MacBook')) & (df_category_type['price'] > 400)].info()"
   ]
  },
  {
   "cell_type": "markdown",
   "metadata": {},
   "source": [
    "#### Filtering Audio Products"
   ]
  },
  {
   "cell_type": "code",
   "execution_count": null,
   "metadata": {},
   "outputs": [],
   "source": [
    "audio_mask = df_category_type['name'].str.contains(r\"\\b(headphones?|earphones?|earbuds?|speakers?|audio|sound|stereo|microphone|headset|bluetooth\\s(?:speaker|headset|earbuds?))\\b\", case=False)"
   ]
  },
  {
   "cell_type": "markdown",
   "metadata": {},
   "source": [
    "#### Filtering Memory and Storage (with servers possible we can exclude them)"
   ]
  },
  {
   "cell_type": "code",
   "execution_count": null,
   "metadata": {},
   "outputs": [],
   "source": [
    "memory_regex = r\"^(?!.*\\b(mac\\sbooks|i\\s?mac|mac\\spro|MacBook|Case)\\b).*\\b(SSD|HDD|hard\\sdrive|solid\\sstate\\sdrive|storage|RAM|memory|DDR\\d|DIMM|flash\\sdrive|USB\\sdrive|SD\\s(?:card|memory|storage))\\b\"\n",
    "\n",
    "memory_storage_mask = (df_category_type['name'].str.contains(memory_regex, case=False))\n"
   ]
  },
  {
   "cell_type": "markdown",
   "metadata": {},
   "source": [
    "#### Monitor"
   ]
  },
  {
   "cell_type": "code",
   "execution_count": null,
   "metadata": {},
   "outputs": [],
   "source": [
    "monitor_mask = df_category_type['name'].str.contains(r\"^(?=.*\\bmonitor\\b)(?!.*\\b(activity|baby|heart|wireless|satechi)\\b).*\", case=False)"
   ]
  },
  {
   "cell_type": "markdown",
   "metadata": {},
   "source": [
    "#### Watches (needed to exclude air pods cause few airpods showed up)"
   ]
  },
  {
   "cell_type": "code",
   "execution_count": null,
   "metadata": {},
   "outputs": [],
   "source": [
    "watch_mask = (\n",
    "    df_category_type['name'].str.contains(r'\\bWatch\\b', case=False) & \n",
    "    (df_category_type['price'] > 100) &  \n",
    "    ~df_category_type['name'].str.contains(r'\\bAirPods\\b', case=False)  \n",
    ")"
   ]
  },
  {
   "cell_type": "markdown",
   "metadata": {},
   "source": [
    "#### checking servers"
   ]
  },
  {
   "cell_type": "code",
   "execution_count": null,
   "metadata": {},
   "outputs": [],
   "source": [
    "server_mask = category_type_df[\"type\"] == \"12175397\""
   ]
  },
  {
   "cell_type": "markdown",
   "metadata": {},
   "source": [
    "## Categorizing based on Type"
   ]
  },
  {
   "cell_type": "code",
   "execution_count": null,
   "metadata": {},
   "outputs": [],
   "source": [
    "## resetter\n",
    "df_category_type['category'] = ''"
   ]
  },
  {
   "cell_type": "code",
   "execution_count": null,
   "metadata": {},
   "outputs": [],
   "source": [
    "df_category_type.sample(100)"
   ]
  },
  {
   "cell_type": "code",
   "execution_count": null,
   "metadata": {},
   "outputs": [],
   "source": [
    "df_category_type['category'].value_counts()"
   ]
  },
  {
   "cell_type": "markdown",
   "metadata": {},
   "source": [
    "### top 20 products based on type (we'll which one we can use)"
   ]
  },
  {
   "cell_type": "code",
   "execution_count": null,
   "metadata": {},
   "outputs": [],
   "source": [
    "df_category_type.groupby(\"type\").count().nlargest(20, \"sku\")"
   ]
  },
  {
   "cell_type": "markdown",
   "metadata": {},
   "source": [
    "### 11865403 = phone cases"
   ]
  },
  {
   "cell_type": "code",
   "execution_count": null,
   "metadata": {},
   "outputs": [],
   "source": [
    "phonecase_typemask = df_category_type[\"type\"] == '11865403'"
   ]
  },
  {
   "cell_type": "code",
   "execution_count": null,
   "metadata": {},
   "outputs": [],
   "source": [
    "df_category_type.loc[df_category_type[\"type\"] == '11865403']"
   ]
  },
  {
   "cell_type": "markdown",
   "metadata": {},
   "source": [
    "#### 1217539 = servers"
   ]
  },
  {
   "cell_type": "code",
   "execution_count": null,
   "metadata": {},
   "outputs": [],
   "source": [
    "servers_typemask = df_category_type[\"type\"] == '12175397'"
   ]
  },
  {
   "cell_type": "code",
   "execution_count": null,
   "metadata": {},
   "outputs": [],
   "source": [
    "df_category_type.loc[df_category_type[\"type\"] == '12175397']"
   ]
  },
  {
   "cell_type": "markdown",
   "metadata": {},
   "source": [
    "#### 1298 = Not new products"
   ]
  },
  {
   "cell_type": "code",
   "execution_count": null,
   "metadata": {},
   "outputs": [],
   "source": [
    "notnew_typemask = df_category_type[\"type\"] == '1298'"
   ]
  },
  {
   "cell_type": "code",
   "execution_count": null,
   "metadata": {},
   "outputs": [],
   "source": [
    "df_category_type.loc[df_category_type[\"type\"] == '1298']"
   ]
  },
  {
   "cell_type": "markdown",
   "metadata": {},
   "source": [
    "#### 11935397 = drives"
   ]
  },
  {
   "cell_type": "code",
   "execution_count": null,
   "metadata": {},
   "outputs": [],
   "source": [
    "drives_typemask = df_category_type[\"type\"] == '11935397'"
   ]
  },
  {
   "cell_type": "code",
   "execution_count": null,
   "metadata": {},
   "outputs": [],
   "source": [
    "df_category_type.loc[df_category_type[\"type\"] == '11935397']"
   ]
  },
  {
   "cell_type": "markdown",
   "metadata": {},
   "source": [
    "#### 11905404 = Smart Technology Accessories"
   ]
  },
  {
   "cell_type": "code",
   "execution_count": null,
   "metadata": {},
   "outputs": [],
   "source": [
    "smarttech_typemask = df_category_type[\"type\"] == '11905404'"
   ]
  },
  {
   "cell_type": "code",
   "execution_count": null,
   "metadata": {},
   "outputs": [],
   "source": [
    "df_category_type.loc[df_category_type[\"type\"] == '11905404']"
   ]
  },
  {
   "cell_type": "markdown",
   "metadata": {},
   "source": [
    "#### 1282 = apple computers"
   ]
  },
  {
   "cell_type": "code",
   "execution_count": null,
   "metadata": {},
   "outputs": [],
   "source": [
    "applecomputers_typemask = df_category_type[\"type\"] == '1282'"
   ]
  },
  {
   "cell_type": "code",
   "execution_count": null,
   "metadata": {},
   "outputs": [],
   "source": [
    "df_category_type.loc[df_category_type[\"type\"] == '1282']"
   ]
  },
  {
   "cell_type": "markdown",
   "metadata": {},
   "source": [
    "##### 12635403 = ipad case and covers"
   ]
  },
  {
   "cell_type": "code",
   "execution_count": null,
   "metadata": {},
   "outputs": [],
   "source": [
    "ipadcase_typemask = df_category_type[\"type\"] == '12635403'"
   ]
  },
  {
   "cell_type": "code",
   "execution_count": null,
   "metadata": {},
   "outputs": [],
   "source": [
    "df_category_type.loc[df_category_type[\"type\"] == '12635403']"
   ]
  },
  {
   "cell_type": "markdown",
   "metadata": {},
   "source": [
    "#### 13835403 = MacBook Cases & Sleeves"
   ]
  },
  {
   "cell_type": "code",
   "execution_count": null,
   "metadata": {},
   "outputs": [],
   "source": [
    "macbookcase_typemask = df_category_type[\"type\"] == '13835403'"
   ]
  },
  {
   "cell_type": "code",
   "execution_count": null,
   "metadata": {},
   "outputs": [],
   "source": [
    "df_category_type.loc[df_category_type[\"type\"] == '13835403'].sample(50)"
   ]
  },
  {
   "cell_type": "markdown",
   "metadata": {},
   "source": [
    "#### 5,74E+15 = Apple iMac 27-Inch Models"
   ]
  },
  {
   "cell_type": "code",
   "execution_count": null,
   "metadata": {},
   "outputs": [],
   "source": [
    "imac27_typemask = df_category_type[\"type\"] == '5,74E+15'"
   ]
  },
  {
   "cell_type": "code",
   "execution_count": null,
   "metadata": {},
   "outputs": [],
   "source": [
    "df_category_type.loc[df_category_type[\"type\"] == '5,74E+15'].sample(50)"
   ]
  },
  {
   "cell_type": "markdown",
   "metadata": {},
   "source": [
    "#### 1364 = Mac Memory "
   ]
  },
  {
   "cell_type": "code",
   "execution_count": null,
   "metadata": {},
   "outputs": [],
   "source": [
    "macmemory_typemask = df_category_type[\"type\"] == '1364'"
   ]
  },
  {
   "cell_type": "code",
   "execution_count": null,
   "metadata": {},
   "outputs": [],
   "source": [
    "df_category_type.loc[df_category_type[\"type\"] == '1364'].sample(50)"
   ]
  },
  {
   "cell_type": "markdown",
   "metadata": {},
   "source": [
    "#### 12585395 = adapters and hub ?"
   ]
  },
  {
   "cell_type": "code",
   "execution_count": null,
   "metadata": {},
   "outputs": [],
   "source": [
    "adapters_typemask = df_category_type[\"type\"] == '12585395'"
   ]
  },
  {
   "cell_type": "code",
   "execution_count": null,
   "metadata": {},
   "outputs": [],
   "source": [
    "df_category_type.loc[df_category_type[\"type\"] == '12585395'].sample(50)"
   ]
  },
  {
   "cell_type": "markdown",
   "metadata": {},
   "source": [
    "#### 1296 = monitors"
   ]
  },
  {
   "cell_type": "code",
   "execution_count": null,
   "metadata": {},
   "outputs": [],
   "source": [
    "monitors_typemask = df_category_type[\"type\"] == '1296'"
   ]
  },
  {
   "cell_type": "code",
   "execution_count": null,
   "metadata": {},
   "outputs": [],
   "source": [
    "df_category_type.loc[df_category_type[\"type\"] == '1296'].sample(50)"
   ]
  },
  {
   "cell_type": "markdown",
   "metadata": {},
   "source": [
    "#### 1325 = Cables and Adapters"
   ]
  },
  {
   "cell_type": "code",
   "execution_count": null,
   "metadata": {},
   "outputs": [],
   "source": [
    "cableadapters_typemask = df_category_type[\"type\"] == '1325'"
   ]
  },
  {
   "cell_type": "code",
   "execution_count": null,
   "metadata": {},
   "outputs": [],
   "source": [
    "df_category_type.loc[df_category_type[\"type\"] == '1325'].sample(50)"
   ]
  },
  {
   "cell_type": "markdown",
   "metadata": {},
   "source": [
    "#### 5384 headphones & earphones"
   ]
  },
  {
   "cell_type": "code",
   "execution_count": null,
   "metadata": {},
   "outputs": [],
   "source": [
    "headphones_typemask = df_category_type[\"type\"] == '5384'"
   ]
  },
  {
   "cell_type": "code",
   "execution_count": null,
   "metadata": {},
   "outputs": [],
   "source": [
    "df_category_type.loc[df_category_type[\"type\"] == '5384'].sample(50)"
   ]
  },
  {
   "cell_type": "markdown",
   "metadata": {},
   "source": [
    "#### 1433 = SSD Expansion MAC"
   ]
  },
  {
   "cell_type": "code",
   "execution_count": null,
   "metadata": {},
   "outputs": [],
   "source": [
    "mac_storage_expansion_typemask = df_category_type[\"type\"] == '1433'"
   ]
  },
  {
   "cell_type": "code",
   "execution_count": null,
   "metadata": {},
   "outputs": [],
   "source": [
    "df_category_type.loc[df_category_type[\"type\"] == '1433'].sample(50)"
   ]
  },
  {
   "cell_type": "markdown",
   "metadata": {},
   "source": [
    "#### 12215397 = SSD and Storage Expansion Kits for Mac and PC"
   ]
  },
  {
   "cell_type": "code",
   "execution_count": null,
   "metadata": {},
   "outputs": [],
   "source": [
    "storage_expansion_typemask = df_category_type[\"type\"] == '12215397'"
   ]
  },
  {
   "cell_type": "code",
   "execution_count": null,
   "metadata": {},
   "outputs": [],
   "source": [
    "df_category_type.loc[df_category_type[\"type\"] == '12215397'].sample(50)"
   ]
  },
  {
   "cell_type": "markdown",
   "metadata": {},
   "source": [
    "#### 5398 speakers\n"
   ]
  },
  {
   "cell_type": "code",
   "execution_count": null,
   "metadata": {},
   "outputs": [],
   "source": [
    "speakers_typemask = df_category_type[\"type\"] == '5398'"
   ]
  },
  {
   "cell_type": "code",
   "execution_count": null,
   "metadata": {},
   "outputs": [],
   "source": [
    "df_category_type.loc[df_category_type[\"type\"] == '5398'].sample(50)"
   ]
  },
  {
   "cell_type": "markdown",
   "metadata": {},
   "source": [
    "#### 1,02E+12 macbooks"
   ]
  },
  {
   "cell_type": "code",
   "execution_count": null,
   "metadata": {},
   "outputs": [],
   "source": [
    "macbooks_typemask = df_category_type[\"type\"] == '1,02E+12'"
   ]
  },
  {
   "cell_type": "code",
   "execution_count": null,
   "metadata": {},
   "outputs": [],
   "source": [
    "df_category_type.loc[df_category_type[\"type\"] == '1,02E+12'].sample(50)"
   ]
  },
  {
   "cell_type": "markdown",
   "metadata": {},
   "source": [
    "#### 1,44E+11 = repairs"
   ]
  },
  {
   "cell_type": "code",
   "execution_count": null,
   "metadata": {},
   "outputs": [],
   "source": [
    "repairs_typemask = df_category_type[\"type\"] == '1,44E+11'"
   ]
  },
  {
   "cell_type": "code",
   "execution_count": null,
   "metadata": {},
   "outputs": [],
   "source": [
    "df_category_type.loc[df_category_type[\"type\"] == '1,44E+11'].sample(50)"
   ]
  },
  {
   "cell_type": "markdown",
   "metadata": {},
   "source": [
    "#### 57445397 = memory again"
   ]
  },
  {
   "cell_type": "code",
   "execution_count": null,
   "metadata": {},
   "outputs": [],
   "source": [
    "drives2_typemask = df_category_type[\"type\"] == '57445397'"
   ]
  },
  {
   "cell_type": "code",
   "execution_count": null,
   "metadata": {},
   "outputs": [],
   "source": [
    "df_category_type.loc[df_category_type[\"type\"] == '57445397'].sample(50)"
   ]
  },
  {
   "cell_type": "markdown",
   "metadata": {},
   "source": [
    "#### 1334 networking"
   ]
  },
  {
   "cell_type": "code",
   "execution_count": null,
   "metadata": {},
   "outputs": [],
   "source": [
    "networking_typemask = df_category_type[\"type\"] == '1334'"
   ]
  },
  {
   "cell_type": "code",
   "execution_count": null,
   "metadata": {},
   "outputs": [],
   "source": [
    "df_category_type.loc[df_category_type[\"type\"] == '1334'].sample(50)"
   ]
  },
  {
   "cell_type": "markdown",
   "metadata": {},
   "source": [
    "#### 2158 macbook laptops"
   ]
  },
  {
   "cell_type": "code",
   "execution_count": null,
   "metadata": {},
   "outputs": [],
   "source": [
    "macbooks2_typemask = df_category_type[\"type\"] == '2158'"
   ]
  },
  {
   "cell_type": "code",
   "execution_count": null,
   "metadata": {},
   "outputs": [],
   "source": [
    "df_category_type.loc[df_category_type[\"type\"] == '2158'].sample(50)"
   ]
  },
  {
   "cell_type": "markdown",
   "metadata": {},
   "source": [
    "#### 2449 apple watch straps"
   ]
  },
  {
   "cell_type": "code",
   "execution_count": null,
   "metadata": {},
   "outputs": [],
   "source": [
    "apple_watch_straps_typemask = df_category_type[\"type\"] == '2449'"
   ]
  },
  {
   "cell_type": "code",
   "execution_count": null,
   "metadata": {},
   "outputs": [],
   "source": [
    "df_category_type.loc[df_category_type[\"type\"] == '2449'].sample(50)"
   ]
  },
  {
   "cell_type": "markdown",
   "metadata": {},
   "source": [
    "#### 12655397 hard drives again"
   ]
  },
  {
   "cell_type": "code",
   "execution_count": null,
   "metadata": {},
   "outputs": [],
   "source": [
    "drives3_typemask = df_category_type[\"type\"] == '12655397'"
   ]
  },
  {
   "cell_type": "code",
   "execution_count": null,
   "metadata": {},
   "outputs": [],
   "source": [
    "df_category_type.loc[df_category_type[\"type\"] == '12655397'].sample(50)"
   ]
  },
  {
   "cell_type": "markdown",
   "metadata": {},
   "source": [
    "#### 1229 digital_pens"
   ]
  },
  {
   "cell_type": "code",
   "execution_count": null,
   "metadata": {},
   "outputs": [],
   "source": [
    "digital_pens_typemask = df_category_type[\"type\"] == '1229'"
   ]
  },
  {
   "cell_type": "code",
   "execution_count": null,
   "metadata": {},
   "outputs": [],
   "source": [
    "df_category_type.loc[df_category_type[\"type\"] == '1229'].sample(50)"
   ]
  },
  {
   "cell_type": "markdown",
   "metadata": {},
   "source": [
    "#### 12995397 - hubs?? hard to categorize"
   ]
  },
  {
   "cell_type": "code",
   "execution_count": null,
   "metadata": {},
   "outputs": [],
   "source": [
    "df_category_type.loc[df_category_type[\"type\"] == '12995397'].sample(50)"
   ]
  },
  {
   "cell_type": "markdown",
   "metadata": {},
   "source": [
    "#### 1515 battery and powerbanks"
   ]
  },
  {
   "cell_type": "code",
   "execution_count": null,
   "metadata": {},
   "outputs": [],
   "source": [
    "powerbanks_typemask = df_category_type[\"type\"] == '1515'"
   ]
  },
  {
   "cell_type": "code",
   "execution_count": null,
   "metadata": {},
   "outputs": [],
   "source": [
    "df_category_type.loc[df_category_type[\"type\"] == '1515'].sample(50)"
   ]
  },
  {
   "cell_type": "markdown",
   "metadata": {},
   "source": [
    "#### 13615399 chargers"
   ]
  },
  {
   "cell_type": "code",
   "execution_count": null,
   "metadata": {},
   "outputs": [],
   "source": [
    "chargers_typemask = df_category_type[\"type\"] == '13615399'"
   ]
  },
  {
   "cell_type": "code",
   "execution_count": null,
   "metadata": {},
   "outputs": [],
   "source": [
    "df_category_type.loc[df_category_type[\"type\"] == '13615399'].sample(50)"
   ]
  },
  {
   "cell_type": "markdown",
   "metadata": {},
   "source": [
    "#### 1231 important because its most selling product - warranty for macs"
   ]
  },
  {
   "cell_type": "code",
   "execution_count": null,
   "metadata": {},
   "outputs": [],
   "source": [
    "warranty_typemask = df_category_type[\"type\"] == '1231'"
   ]
  },
  {
   "cell_type": "markdown",
   "metadata": {},
   "source": [
    "### lets categorize it"
   ]
  },
  {
   "cell_type": "code",
   "execution_count": null,
   "metadata": {},
   "outputs": [],
   "source": [
    "## resetter\n",
    "df_category_type['category'] = ''"
   ]
  },
  {
   "cell_type": "code",
   "execution_count": null,
   "metadata": {},
   "outputs": [],
   "source": [
    "df_category_type.loc[phonecase_typemask, \"category\"] += \", phone_case\"\n",
    "df_category_type.loc[servers_typemask, \"category\"] += \", servers\"\n",
    "df_category_type.loc[drives_typemask | drives2_typemask | drives3_typemask , \"category\"] += \", drives\"\n",
    "df_category_type.loc[smarttech_typemask, \"category\"] += \", smart_tech\"\n",
    "df_category_type.loc[applecomputers_typemask, \"category\"] += \", apple_computers\"\n",
    "df_category_type.loc[macbooks_typemask | macbooks2_typemask, \"category\"] += \", macbooks\"\n",
    "df_category_type.loc[ipadcase_typemask, \"category\"] += \", ipad_case\"\n",
    "df_category_type.loc[macbookcase_typemask, \"category\"] += \", macbook_case\"\n",
    "df_category_type.loc[imac27_typemask, \"category\"] += \", imac27\"\n",
    "df_category_type.loc[macmemory_typemask, \"category\"] += \", macmemory\"\n",
    "df_category_type.loc[adapters_typemask, \"category\"] += \", adapters_hubs\"\n",
    "df_category_type.loc[monitors_typemask, \"category\"] += \", monitors\"\n",
    "df_category_type.loc[cableadapters_typemask, \"category\"] += \", cable_adapters\"\n",
    "df_category_type.loc[headphones_typemask, \"category\"] += \", headphones\"\n",
    "df_category_type.loc[mac_storage_expansion_typemask | storage_expansion_typemask, \"category\"] += \", SSD\"\n",
    "df_category_type.loc[speakers_typemask, \"category\"] += \", speakers\"\n",
    "df_category_type.loc[repairs_typemask, \"category\"] += \", repairs\"\n",
    "df_category_type.loc[networking_typemask, \"category\"] += \", networking\"\n",
    "df_category_type.loc[apple_watch_straps_typemask, \"category\"] += \", watch_straps\"\n",
    "df_category_type.loc[digital_pens_typemask, \"category\"] += \", digital_pens\"\n",
    "df_category_type.loc[powerbanks_typemask, \"category\"] += \", powerbanks\"\n",
    "df_category_type.loc[chargers_typemask, \"category\"] += \", powerbanks\"\n",
    "df_category_type.loc[warranty_typemask, \"category\"] += \", warranty\"\n",
    "\n",
    "\n",
    "\n"
   ]
  },
  {
   "cell_type": "code",
   "execution_count": null,
   "metadata": {},
   "outputs": [],
   "source": [
    "df_category_type['category'].value_counts()"
   ]
  },
  {
   "cell_type": "markdown",
   "metadata": {},
   "source": [
    "### investigating further to find other categories which dont have reasonable type"
   ]
  },
  {
   "cell_type": "markdown",
   "metadata": {},
   "source": [
    "### the code above must be executed first and the rest here in order to work !\n"
   ]
  },
  {
   "cell_type": "code",
   "execution_count": null,
   "metadata": {},
   "outputs": [],
   "source": [
    "apple_watch_mask = (\n",
    "    (df_category_type['category'] == '') & \n",
    "    (df_category_type['name'].str.contains(\"watch\", case=False)) & \n",
    "    (df_category_type['price'] > 100)\n",
    ")    "
   ]
  },
  {
   "cell_type": "markdown",
   "metadata": {},
   "source": [
    "##### how i established the code"
   ]
  },
  {
   "cell_type": "code",
   "execution_count": null,
   "metadata": {},
   "outputs": [],
   "source": [
    "df_category_type.loc[\n",
    "    (df_category_type['category'] == '') & \n",
    "    (df_category_type['name'].str.contains(\"watch\", case=False)) & \n",
    "    (df_category_type['price'] > 100)\n",
    "].sample(100)"
   ]
  },
  {
   "cell_type": "markdown",
   "metadata": {},
   "source": [
    "### adding apple watches category"
   ]
  },
  {
   "cell_type": "code",
   "execution_count": null,
   "metadata": {},
   "outputs": [],
   "source": [
    "df_category_type.loc[apple_watch_mask, \"category\"] += \", apple_watch\""
   ]
  },
  {
   "cell_type": "code",
   "execution_count": null,
   "metadata": {},
   "outputs": [],
   "source": [
    "df_category_type['category'].value_counts()"
   ]
  },
  {
   "cell_type": "markdown",
   "metadata": {},
   "source": [
    "### IPHONES"
   ]
  },
  {
   "cell_type": "code",
   "execution_count": null,
   "metadata": {},
   "outputs": [],
   "source": [
    "iphone_mask = (\n",
    "    (df_category_type['category'] == '') & \n",
    "    (df_category_type['name'].str.contains(\"iphone\", case=False)) &\n",
    "    (df_category_type['price'] > 300)\n",
    ")"
   ]
  },
  {
   "cell_type": "code",
   "execution_count": null,
   "metadata": {},
   "outputs": [],
   "source": [
    "df_category_type.loc[\n",
    "    (df_category_type['category'] == '') & \n",
    "    (df_category_type['name'].str.contains(\"iphone\", case=False)) &\n",
    "    (df_category_type['price'] > 300)]"
   ]
  },
  {
   "cell_type": "markdown",
   "metadata": {},
   "source": [
    "### adding iphones to category!"
   ]
  },
  {
   "cell_type": "code",
   "execution_count": null,
   "metadata": {},
   "outputs": [],
   "source": [
    "df_category_type.loc[iphone_mask, \"category\"] += \", iphones\""
   ]
  },
  {
   "cell_type": "code",
   "execution_count": null,
   "metadata": {},
   "outputs": [],
   "source": [
    "df_category_type['category'].value_counts()"
   ]
  },
  {
   "cell_type": "markdown",
   "metadata": {},
   "source": [
    "### investigating further"
   ]
  },
  {
   "cell_type": "code",
   "execution_count": null,
   "metadata": {},
   "outputs": [],
   "source": [
    "\n",
    "df_category_type.loc[\n",
    "    (df_category_type['category'] == '') & \n",
    "    (df_category_type['desc'].str.contains(\"warranty\", case=False)) &\n",
    "    (df_category_type['price'] > 0)]"
   ]
  },
  {
   "cell_type": "markdown",
   "metadata": {},
   "source": [
    "### 72% data base covered"
   ]
  },
  {
   "cell_type": "code",
   "execution_count": null,
   "metadata": {},
   "outputs": [],
   "source": [
    "df_category_type.head(60)"
   ]
  },
  {
   "cell_type": "code",
   "execution_count": null,
   "metadata": {},
   "outputs": [],
   "source": [
    "df_category_type[df_category_type['price'] > 200]"
   ]
  },
  {
   "cell_type": "code",
   "execution_count": null,
   "metadata": {},
   "outputs": [],
   "source": [
    "# Save the DataFrame to a CSV file in the current working directory\n",
    "df_category_type.to_csv('df_category_type_cleaned.csv', index=False)\n",
    "\n",
    "print(\"DataFrame saved to df_category_type_cleaned.csv\")"
   ]
  }
 ],
 "metadata": {
  "kernelspec": {
   "display_name": "Python 3",
   "language": "python",
   "name": "python3"
  },
  "language_info": {
   "codemirror_mode": {
    "name": "ipython",
    "version": 3
   },
   "file_extension": ".py",
   "mimetype": "text/x-python",
   "name": "python",
   "nbconvert_exporter": "python",
   "pygments_lexer": "ipython3",
   "version": "3.9.6"
  }
 },
 "nbformat": 4,
 "nbformat_minor": 2
}

{
 "cells": [
  {
   "cell_type": "code",
   "execution_count": null,
   "metadata": {},
   "outputs": [],
   "source": [
    "import pandas as pd"
   ]
  },
  {
   "cell_type": "code",
   "execution_count": null,
   "metadata": {},
   "outputs": [],
   "source": [
    "# products_cl.csv\n",
    "url = \"https://drive.google.com/file/d/1s7Lai4NSlsYjGEPg1QSOUJobNYVsZBOJ/view?usp=sharing\"\n",
    "path = \"https://drive.google.com/uc?export=download&id=\"+url.split(\"/\")[-2]\n",
    "products_df = pd.read_csv(path)\n",
    "\n",
    "# brands_cl.csv\n",
    "url = \"https://drive.google.com/file/d/1XGyabaa4mAkjixMk3XPgx_14OoSse3rs/view?usp=sharing\"\n",
    "path = \"https://drive.google.com/uc?export=download&id=\"+url.split(\"/\")[-2]\n",
    "brands_df = pd.read_csv(path)\n"
   ]
  },
  {
   "cell_type": "code",
   "execution_count": null,
   "metadata": {},
   "outputs": [],
   "source": [
    "import os\n",
    "# Define paths using os.path.expanduser\n",
    "orders_path = os.path.expanduser(\"~/Downloads/orders_qu.csv\")\n",
    "orderlines_path = os.path.expanduser(\"~/Downloads/orderlines_qu.csv\")\n",
    "\n"
   ]
  },
  {
   "cell_type": "code",
   "execution_count": null,
   "metadata": {},
   "outputs": [],
   "source": [
    "products_df"
   ]
  },
  {
   "cell_type": "code",
   "execution_count": null,
   "metadata": {},
   "outputs": [],
   "source": [
    "# Read the CSV files into pandas DataFrames\n",
    "orders_df = pd.read_csv(orders_path)\n",
    "orderlines_df = pd.read_csv(orderlines_path)\n"
   ]
  },
  {
   "cell_type": "code",
   "execution_count": null,
   "metadata": {},
   "outputs": [],
   "source": [
    "orderlines_df.info()"
   ]
  },
  {
   "cell_type": "code",
   "execution_count": null,
   "metadata": {},
   "outputs": [],
   "source": [
    "orders_df.info()"
   ]
  },
  {
   "cell_type": "code",
   "execution_count": null,
   "metadata": {},
   "outputs": [],
   "source": [
    "#convert date columns to datetime \n",
    "orders_df['created_date'] = pd.to_datetime(orders_df['created_date'])\n",
    "orderlines_df['date'] = pd.to_datetime(orderlines_df['date'])\n",
    "\n"
   ]
  },
  {
   "cell_type": "markdown",
   "metadata": {},
   "source": [
    "### 1. Time Period Covered by the Dataset"
   ]
  },
  {
   "cell_type": "code",
   "execution_count": null,
   "metadata": {},
   "outputs": [],
   "source": [
    "# What is the time period that the dataset covers?\n",
    "# min and max dates in the orders dataset\n",
    "time_period = orders_df['created_date'].agg(['min', 'max'])\n",
    "print(\"Time Period Covered by the Dataset:\")\n",
    "print(time_period)\n",
    "\n",
    "\n"
   ]
  },
  {
   "cell_type": "markdown",
   "metadata": {},
   "source": [
    "### 2. Overall Revenue for the Time Period"
   ]
  },
  {
   "cell_type": "code",
   "execution_count": null,
   "metadata": {},
   "outputs": [],
   "source": [
    "# Calculate total revenue from the orderlines dataset\n",
    "overall_revenue = orders_df['total_paid'].sum()\n",
    "\n",
    "# Round the overall revenue to two decimal places\n",
    "overall_revenue = round(overall_revenue, 2)\n",
    "overall_revenue"
   ]
  },
  {
   "cell_type": "markdown",
   "metadata": {},
   "source": [
    "### 3. Seasonal Patterns in Sales\n",
    "Analyzing monthly sales to identify any seasonal patterns."
   ]
  },
  {
   "cell_type": "code",
   "execution_count": null,
   "metadata": {},
   "outputs": [],
   "source": [
    "\n",
    "import plotly.express as px\n",
    "\n",
    "# Assuming orders_df is already loaded and cleaned\n",
    "\n",
    "# Group by month and calculate total revenue\n",
    "orders_df['month'] = orders_df['created_date'].dt.to_period('M')\n",
    "monthly_revenue = orders_df.groupby('month')['total_paid'].sum().reset_index()\n",
    "\n",
    "# Convert 'month' to string for Plotly compatibility\n",
    "monthly_revenue['month'] = monthly_revenue['month'].astype(str)\n",
    "\n",
    "# Plot monthly revenue using Plotly Express\n",
    "fig = px.line(monthly_revenue, x='month', y='total_paid', \n",
    "              title='Monthly Revenue Over Time',\n",
    "              labels={'month': 'Month', 'total_paid': 'Total Revenue (€)'},\n",
    "              markers=True)\n",
    "\n",
    "# Customize layout for better readability\n",
    "fig.update_layout(\n",
    "    xaxis_title='Month',\n",
    "    yaxis_title='Total Revenue (€)',\n",
    "    hovermode='x unified',\n",
    "    template='plotly_white',  # Optional: choose a template\n",
    "    width=800, height=500,    # Adjust figure size\n",
    ")\n",
    "\n",
    "# Show the plot\n",
    "fig.show()\n"
   ]
  },
  {
   "cell_type": "markdown",
   "metadata": {},
   "source": [
    "### 4. Most Sold Products\n",
    "Identify the top 10 most sold products based on quantity."
   ]
  },
  {
   "cell_type": "code",
   "execution_count": null,
   "metadata": {},
   "outputs": [],
   "source": [
    "# Merge orderlines with products to get product names\n",
    "orderlines_merged = pd.merge(orderlines_df, products_df, on='sku', how='left')\n",
    "\n",
    "# Group by product name and calculate total quantity sold\n",
    "top_selling_products = orderlines_merged.groupby('name')['product_quantity'].sum().reset_index()\n",
    "\n",
    "# Sort the products by total quantity sold in descending order\n",
    "top_selling_products = top_selling_products.sort_values(by='product_quantity', ascending=False)\n",
    "\n",
    "print(\"\\nTop 10 Most Sold Products:\")\n",
    "print(top_selling_products.head(10))"
   ]
  },
  {
   "cell_type": "markdown",
   "metadata": {},
   "source": [
    "### 5. Products that Generate the Most Revenue\n",
    "Identify the top 10 products that generate the most revenue."
   ]
  },
  {
   "cell_type": "code",
   "execution_count": null,
   "metadata": {},
   "outputs": [],
   "source": [
    "# Group by product name and calculate total revenue generated\n",
    "top_revenue_products = orderlines_merged.groupby('name')['unit_price_total'].sum().reset_index()\n",
    "\n",
    "# Sort the products by total revenue generated in descending order\n",
    "top_revenue_products = top_revenue_products.sort_values(by='unit_price_total', ascending=False)\n",
    "\n",
    "print(\"\\nTop 10 Products that Generate the Most Revenue:\")\n",
    "print(top_revenue_products.head(10))"
   ]
  },
  {
   "cell_type": "markdown",
   "metadata": {},
   "source": [
    "### 6. Average Order Value\n",
    "Calculating the average order value to understand customer spending behavior."
   ]
  },
  {
   "cell_type": "code",
   "execution_count": null,
   "metadata": {},
   "outputs": [],
   "source": [
    "# Calculate Average Order Value (AOV)\n",
    "average_order_value = orders_df['total_paid'].mean()\n",
    "print(f\"Average Order Value: €{average_order_value:.2f}\")\n"
   ]
  },
  {
   "cell_type": "code",
   "execution_count": null,
   "metadata": {},
   "outputs": [],
   "source": [
    "products_df.describe()"
   ]
  },
  {
   "cell_type": "markdown",
   "metadata": {},
   "source": [
    "### 7. Analyzing price impacts on sales volume and revenue"
   ]
  },
  {
   "cell_type": "code",
   "execution_count": null,
   "metadata": {},
   "outputs": [],
   "source": [
    "# Define price ranges for analysis\n",
    "def price_range(price):\n",
    "    if price <= 50:\n",
    "        return '0-50'\n",
    "    elif 50 < price <= 100:\n",
    "        return '50-100'\n",
    "    elif 100 < price <= 200:\n",
    "        return '100-200'\n",
    "    elif 200 < price <= 500:\n",
    "        return '200-500'\n",
    "    else:\n",
    "        return '500+'\n",
    "\n",
    "orderlines_merged['price_range'] = orderlines_merged['price'].apply(price_range)\n",
    "\n",
    "# Group by price ranges and calculate sales volume and revenue\n",
    "price_analysis = orderlines_merged.groupby('price_range').agg(\n",
    "    total_sales_volume=pd.NamedAgg(column='product_quantity', aggfunc='sum'),\n",
    "    total_revenue=pd.NamedAgg(column='total_price', aggfunc='sum')\n",
    ").reset_index()\n",
    "\n",
    "# Sort the price ranges for better visualization\n",
    "price_analysis['price_range'] = pd.Categorical(price_analysis['price_range'],\n",
    "                                               categories=['0-50', '50-100', '100-200', '200-500', '500+'],\n",
    "                                               ordered=True)\n",
    "price_analysis = price_analysis.sort_values('price_range')\n",
    "\n",
    "# Identify the highest sales volume and revenue\n",
    "max_sales_volume = price_analysis['total_sales_volume'].max()\n",
    "max_revenue = price_analysis['total_revenue'].max()\n",
    "\n",
    "# Apply color based on the highest values\n",
    "price_analysis['color_volume'] = price_analysis['total_sales_volume'].apply(lambda x: 'orange' if x == max_sales_volume else 'blue')\n",
    "price_analysis['color_revenue'] = price_analysis['total_revenue'].apply(lambda x: 'orange' if x == max_revenue else 'blue')\n",
    "\n",
    "# Visualize the impact of price ranges on sales volume\n",
    "fig_volume = px.bar(price_analysis, x='price_range', y='total_sales_volume', title='Impact of Price on Sales Volume',\n",
    "                    labels={'price_range': 'Price Range (€)', 'total_sales_volume': 'Total Sales Volume'},\n",
    "                    color='color_volume', color_discrete_map={'deep blue': 'deep blue', 'orange': 'orange'})\n",
    "fig_volume.update_layout(\n",
    "    width=800, height=600,  # Adjust figure size\n",
    "    xaxis_title='Price Range (€)',\n",
    "    yaxis_title='Total Sales Volume',\n",
    "    hovermode='x unified',\n",
    "    template='plotly_white',\n",
    "    showlegend=False  # Hide legend since colors are self-explanatory\n",
    ")\n",
    "fig_volume.show()\n",
    "\n",
    "# Visualize the impact of price ranges on revenue\n",
    "fig_revenue = px.bar(price_analysis, x='price_range', y='total_revenue', title='Impact of Price on Revenue',\n",
    "                     labels={'price_range': 'Price Range (€)', 'total_revenue': 'Total Revenue (€)'},\n",
    "                     color='color_revenue', color_discrete_map={'sky blue': 'sky blue', 'orange': 'orange'})\n",
    "fig_revenue.update_layout(\n",
    "    width=800, height=600,  # Adjust figure size\n",
    "    xaxis_title='Price Range (€)',\n",
    "    yaxis_title='Total Revenue (€)',\n",
    "    hovermode='x unified',\n",
    "    template='plotly_white',\n",
    "    showlegend=False  # Hide legend since colors are self-explanatory\n",
    ")\n",
    "fig_revenue.show()"
   ]
  },
  {
   "cell_type": "code",
   "execution_count": null,
   "metadata": {},
   "outputs": [],
   "source": [
    "# show the unique desc columns\n",
    "products_df['desc'].unique()"
   ]
  },
  {
   "cell_type": "code",
   "execution_count": null,
   "metadata": {},
   "outputs": [],
   "source": [
    "# Assuming products_df is your DataFrame\n",
    "for desc in products_df['desc'].unique():\n",
    "    print(desc)"
   ]
  },
  {
   "cell_type": "code",
   "execution_count": null,
   "metadata": {},
   "outputs": [],
   "source": [
    "# Assuming products_df is your DataFrame\n",
    "print(products_df['desc'].head(10))"
   ]
  },
  {
   "cell_type": "code",
   "execution_count": null,
   "metadata": {},
   "outputs": [],
   "source": [
    "# Assuming products_df is your DataFrame\n",
    "print(products_df['desc'].sample(10))"
   ]
  }
 ],
 "metadata": {
  "kernelspec": {
   "display_name": "Python 3",
   "language": "python",
   "name": "python3"
  },
  "language_info": {
   "codemirror_mode": {
    "name": "ipython",
    "version": 3
   },
   "file_extension": ".py",
   "mimetype": "text/x-python",
   "name": "python",
   "nbconvert_exporter": "python",
   "pygments_lexer": "ipython3",
   "version": "3.9.6"
  }
 },
 "nbformat": 4,
 "nbformat_minor": 2
}
